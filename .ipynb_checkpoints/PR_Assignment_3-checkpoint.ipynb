{
 "cells": [
  {
   "cell_type": "code",
   "execution_count": 1,
   "id": "e09fa4f6",
   "metadata": {
    "scrolled": false
   },
   "outputs": [
    {
     "name": "stdout",
     "output_type": "stream",
     "text": [
      "Total folders in the dataset: 4\n",
      "- readme.txt\n",
      "- sub1\n",
      "- sub2\n",
      "- sub3\n",
      "- sub4\n"
     ]
    }
   ],
   "source": [
    "import os\n",
    "import numpy as np\n",
    "import matplotlib.pyplot as plt\n",
    "\n",
    "# Locate the dataset and count the number of folders\n",
    "data_dir = 'EMGPhysicalActionDataSet'  # Replace with actual path\n",
    "contents = os.listdir(data_dir)\n",
    "\n",
    "folders_count = 0\n",
    "\n",
    "for item in contents:\n",
    "    if os.path.isdir(os.path.join(data_dir, item)) and item not in ['.', '..']:\n",
    "        folders_count += 1\n",
    "\n",
    "print(f'Total folders in the dataset: {folders_count}')\n",
    "\n",
    "# Display files in each sub-directory for different actions\n",
    "action_files_list = os.listdir(data_dir)\n",
    "for file_item in action_files_list:\n",
    "    print(f'- {file_item}')"
   ]
  },
  {
   "cell_type": "code",
   "execution_count": 2,
   "id": "ed58c404",
   "metadata": {},
   "outputs": [
    {
     "name": "stdout",
     "output_type": "stream",
     "text": [
      "Contents of \"EMGPhysicalActionDataSet\\sub1\":\n",
      "Files in Normal//txt directory:\n",
      "- Bowing.txt\n",
      "- Clapping.txt\n",
      "- Handshaking.txt\n",
      "- Hugging.txt\n",
      "- Jumping.txt\n",
      "- Running.txt\n",
      "- Seating.txt\n",
      "- Standing.txt\n",
      "- Walking.txt\n",
      "- Waving.txt\n",
      "Files in Aggressive//txt directory:\n",
      "- Elbowing.txt\n",
      "- Frontkicking.txt\n",
      "- Hamering.txt\n",
      "- Headering.txt\n",
      "- Kneeing.txt\n",
      "- Pulling.txt\n",
      "- Punching.txt\n",
      "- Pushing.txt\n",
      "- Sidekicking.txt\n",
      "- Slapping.txt\n",
      "Contents of \"EMGPhysicalActionDataSet\\sub2\":\n",
      "Files in Normal//txt directory:\n",
      "- Bowing.txt\n",
      "- Clapping.txt\n",
      "- Handshaking.txt\n",
      "- Hugging.txt\n",
      "- Jumping.txt\n",
      "- Running.txt\n",
      "- Seating.txt\n",
      "- Standing.txt\n",
      "- Walking.txt\n",
      "- Waving.txt\n",
      "Files in Aggressive//txt directory:\n",
      "- Elbowing.txt\n",
      "- Frontkicking.txt\n",
      "- Hamering.txt\n",
      "- Headering.txt\n",
      "- Kneeing.txt\n",
      "- Pulling.txt\n",
      "- Punching.txt\n",
      "- Pushing.txt\n",
      "- Sidekicking.txt\n",
      "- Slapping.txt\n",
      "Contents of \"EMGPhysicalActionDataSet\\sub3\":\n",
      "Files in Normal//txt directory:\n",
      "- Bowing.txt\n",
      "- Clapping.txt\n",
      "- Handshaking.txt\n",
      "- Hugging.txt\n",
      "- Jumping.txt\n",
      "- Running.txt\n",
      "- Seating.txt\n",
      "- Standing.txt\n",
      "- Walking.txt\n",
      "- Waving.txt\n",
      "Files in Aggressive//txt directory:\n",
      "- Elbowing.txt\n",
      "- Frontkicking.txt\n",
      "- Hamering.txt\n",
      "- Headering.txt\n",
      "- Kneeing.txt\n",
      "- Pulling.txt\n",
      "- Punching.txt\n",
      "- Pushing.txt\n",
      "- Sidekicking.txt\n",
      "- Slapping.txt\n",
      "Contents of \"EMGPhysicalActionDataSet\\sub4\":\n",
      "Files in Normal//txt directory:\n",
      "- Bowing.txt\n",
      "- Clapping.txt\n",
      "- Handshaking.txt\n",
      "- Hugging.txt\n",
      "- Jumping.txt\n",
      "- Running.txt\n",
      "- Seating.txt\n",
      "- Standing.txt\n",
      "- Walking.txt\n",
      "- Waving.txt\n",
      "Files in Aggressive//txt directory:\n",
      "- Elbowing.txt\n",
      "- Frontkicking.txt\n",
      "- Hamering.txt\n",
      "- Headering.txt\n",
      "- Kneeing.txt\n",
      "- Pulling.txt\n",
      "- Punching.txt\n",
      "- Pushing.txt\n",
      "- Sidekicking.txt\n",
      "- Slapping.txt\n"
     ]
    }
   ],
   "source": [
    "# Define subfolders and action types\n",
    "subjects = ['sub1', 'sub2', 'sub3', 'sub4']\n",
    "data_path = 'EMGPhysicalActionDataSet'\n",
    "\n",
    "actions = ['Normal//txt', 'Aggressive//txt']\n",
    "\n",
    "for subject_folder in subjects:\n",
    "    folder_path = os.path.join(data_path, subject_folder)\n",
    "    \n",
    "    print(f'Contents of \"{folder_path}\":')\n",
    "    \n",
    "    for action_type in actions:\n",
    "        action_dir = os.path.join(folder_path, action_type)\n",
    "        \n",
    "        files_in_action = os.listdir(action_dir)\n",
    "        text_files = [file_item for file_item in files_in_action if file_item.endswith('.txt')]\n",
    "        \n",
    "        if text_files:\n",
    "            print(f'Files in {action_type} directory:')\n",
    "            for text_file in text_files:\n",
    "                print(f'- {text_file}')\n"
   ]
  },
  {
   "cell_type": "code",
   "execution_count": 3,
   "id": "141bcc94",
   "metadata": {},
   "outputs": [
    {
     "name": "stdout",
     "output_type": "stream",
     "text": [
      "Processing \"EMGPhysicalActionDataSet\\sub1\":\n",
      "File: Bowing.txt, Data size: (9830, 8)\n",
      "File: Clapping.txt, Data size: (10000, 8)\n",
      "File: Handshaking.txt, Data size: (9611, 8)\n",
      "File: Hugging.txt, Data size: (9756, 8)\n",
      "File: Jumping.txt, Data size: (10000, 8)\n",
      "File: Running.txt, Data size: (9964, 8)\n",
      "File: Seating.txt, Data size: (10000, 8)\n",
      "File: Standing.txt, Data size: (9725, 8)\n",
      "File: Walking.txt, Data size: (10000, 8)\n",
      "File: Waving.txt, Data size: (10000, 8)\n",
      "File: Elbowing.txt, Data size: (9772, 8)\n",
      "File: Frontkicking.txt, Data size: (9811, 8)\n",
      "File: Hamering.txt, Data size: (10000, 8)\n",
      "File: Headering.txt, Data size: (10000, 8)\n",
      "File: Kneeing.txt, Data size: (10000, 8)\n",
      "File: Pulling.txt, Data size: (9659, 8)\n",
      "File: Punching.txt, Data size: (9637, 8)\n",
      "File: Pushing.txt, Data size: (9676, 8)\n",
      "File: Sidekicking.txt, Data size: (9829, 8)\n",
      "File: Slapping.txt, Data size: (9788, 8)\n",
      "Processing \"EMGPhysicalActionDataSet\\sub2\":\n",
      "File: Bowing.txt, Data size: (9930, 8)\n",
      "File: Clapping.txt, Data size: (10000, 8)\n",
      "File: Handshaking.txt, Data size: (10000, 8)\n",
      "File: Hugging.txt, Data size: (10000, 8)\n",
      "File: Jumping.txt, Data size: (10000, 8)\n",
      "File: Running.txt, Data size: (10000, 8)\n",
      "File: Seating.txt, Data size: (10000, 8)\n",
      "File: Standing.txt, Data size: (10000, 8)\n",
      "File: Walking.txt, Data size: (10000, 8)\n",
      "File: Waving.txt, Data size: (10000, 8)\n",
      "File: Elbowing.txt, Data size: (10000, 8)\n",
      "File: Frontkicking.txt, Data size: (9884, 8)\n",
      "File: Hamering.txt, Data size: (10000, 8)\n",
      "File: Headering.txt, Data size: (10000, 8)\n",
      "File: Kneeing.txt, Data size: (10000, 8)\n",
      "File: Pulling.txt, Data size: (10000, 8)\n",
      "File: Punching.txt, Data size: (10000, 8)\n",
      "File: Pushing.txt, Data size: (10000, 8)\n",
      "File: Sidekicking.txt, Data size: (9806, 8)\n",
      "File: Slapping.txt, Data size: (10000, 8)\n",
      "Processing \"EMGPhysicalActionDataSet\\sub3\":\n",
      "File: Bowing.txt, Data size: (10474, 8)\n",
      "File: Clapping.txt, Data size: (10425, 8)\n",
      "File: Handshaking.txt, Data size: (9796, 8)\n",
      "File: Hugging.txt, Data size: (9755, 8)\n",
      "File: Jumping.txt, Data size: (9974, 8)\n",
      "File: Running.txt, Data size: (9655, 8)\n",
      "File: Seating.txt, Data size: (9844, 8)\n",
      "File: Standing.txt, Data size: (9604, 8)\n",
      "File: Walking.txt, Data size: (10246, 8)\n",
      "File: Waving.txt, Data size: (9909, 8)\n",
      "File: Elbowing.txt, Data size: (9794, 8)\n",
      "File: Frontkicking.txt, Data size: (9719, 8)\n",
      "File: Hamering.txt, Data size: (15106, 8)\n",
      "File: Headering.txt, Data size: (10098, 8)\n",
      "File: Kneeing.txt, Data size: (9205, 8)\n",
      "File: Pulling.txt, Data size: (10008, 8)\n",
      "File: Punching.txt, Data size: (9994, 8)\n",
      "File: Pushing.txt, Data size: (10412, 8)\n",
      "File: Sidekicking.txt, Data size: (10024, 8)\n",
      "File: Slapping.txt, Data size: (10173, 8)\n",
      "Processing \"EMGPhysicalActionDataSet\\sub4\":\n",
      "File: Bowing.txt, Data size: (10000, 8)\n",
      "File: Clapping.txt, Data size: (10000, 8)\n",
      "File: Handshaking.txt, Data size: (10000, 8)\n",
      "File: Hugging.txt, Data size: (10000, 8)\n",
      "File: Jumping.txt, Data size: (9664, 8)\n",
      "File: Running.txt, Data size: (10000, 8)\n",
      "File: Seating.txt, Data size: (9464, 8)\n",
      "File: Standing.txt, Data size: (10000, 8)\n",
      "File: Walking.txt, Data size: (9641, 8)\n",
      "File: Waving.txt, Data size: (10000, 8)\n",
      "File: Elbowing.txt, Data size: (9574, 8)\n",
      "File: Frontkicking.txt, Data size: (9522, 8)\n",
      "File: Hamering.txt, Data size: (9550, 8)\n",
      "File: Headering.txt, Data size: (9521, 8)\n",
      "File: Kneeing.txt, Data size: (10000, 8)\n",
      "File: Pulling.txt, Data size: (10000, 8)\n",
      "File: Punching.txt, Data size: (10000, 8)\n",
      "File: Pushing.txt, Data size: (10000, 8)\n",
      "File: Sidekicking.txt, Data size: (9597, 8)\n",
      "File: Slapping.txt, Data size: (10000, 8)\n"
     ]
    }
   ],
   "source": [
    "# Process data files in subfolders and actions\n",
    "subjects = ['sub1', 'sub2', 'sub3', 'sub4']\n",
    "data_path = 'EMGPhysicalActionDataSet'\n",
    "actions = ['Normal//txt', 'Aggressive//txt']\n",
    "\n",
    "for subject_folder in subjects:\n",
    "    folder_path = os.path.join(data_path, subject_folder)\n",
    "    \n",
    "    print(f'Processing \"{folder_path}\":')\n",
    "    \n",
    "    for action_type in actions:\n",
    "        action_dir = os.path.join(folder_path, action_type)\n",
    "        \n",
    "        files_in_action = os.listdir(action_dir)\n",
    "        text_files = [file_item for file_item in files_in_action if file_item.endswith('.txt')]\n",
    "       \n",
    "        for file_item in text_files:\n",
    "            file_path = os.path.join(action_dir, file_item)\n",
    "            data = np.loadtxt(file_path)\n",
    "            data_size = data.shape\n",
    "         \n",
    "            print(f'File: {file_item}, Data size: {data_size}')\n",
    "            "
   ]
  },
  {
   "cell_type": "code",
   "execution_count": 4,
   "id": "e4fcc1df",
   "metadata": {},
   "outputs": [
    {
     "name": "stdout",
     "output_type": "stream",
     "text": [
      "Extracting from \"EMGPhysicalActionDataSet\\sub1\":\n",
      "Extracting from \"EMGPhysicalActionDataSet\\sub2\":\n",
      "Extracting from \"EMGPhysicalActionDataSet\\sub3\":\n",
      "Extracting from \"EMGPhysicalActionDataSet\\sub4\":\n"
     ]
    }
   ],
   "source": [
    "# Extract and visualize data from subfolders and actions\n",
    "subjects = ['sub1', 'sub2', 'sub3', 'sub4']\n",
    "data_path = 'EMGPhysicalActionDataSet'\n",
    "actions = ['Normal//txt', 'Aggressive//txt']\n",
    "\n",
    "data_collection = []\n",
    "\n",
    "for subject_folder in subjects:\n",
    "    folder_path = os.path.join(data_path, subject_folder)\n",
    "    \n",
    "    print(f'Extracting from \"{folder_path}\":')\n",
    "    \n",
    "    for action_type in actions:\n",
    "        action_dir = os.path.join(folder_path, action_type)\n",
    "        \n",
    "        files_in_action = os.listdir(action_dir)\n",
    "        text_files = [file_item for file_item in files_in_action if file_item.endswith('.txt')]\n",
    "       \n",
    "        for text_file in text_files:\n",
    "            file_path = os.path.join(action_dir, text_file)\n",
    "            data = np.loadtxt(file_path)\n",
    "            num_channels = data.shape[1]\n",
    "            data_collection.append(data)\n",
    "            \n",
    "#             for channel in range(num_channels):\n",
    "#                plt.figure()\n",
    "#                plt.plot(data[:, channel])\n",
    "#                plt.title(f'Channel {channel + 1} - {text_file} ({action_type})')\n",
    "#                plt.xlabel('Time')\n",
    "#                plt.ylabel('Amplitude')\n",
    "#                plt.show()\n"
   ]
  },
  {
   "cell_type": "markdown",
   "id": "bed5077a",
   "metadata": {},
   "source": [
    "# Task 2"
   ]
  },
  {
   "cell_type": "code",
   "execution_count": 5,
   "id": "c7afadb7",
   "metadata": {},
   "outputs": [],
   "source": [
    "category_A = []\n",
    "category_B = []\n",
    "\n",
    "category_length = 10\n",
    "counter = 1\n",
    "\n",
    "# Assuming 'd' represents your dataset\n",
    "for idx in range(0, len(data_collection), 10):\n",
    "    if counter % 2 == 0:\n",
    "        category_B.append(data_collection[idx:idx + category_length])\n",
    "    else:\n",
    "        category_A.append(data_collection[idx:idx + category_length])\n",
    "    counter += 1"
   ]
  },
  {
   "cell_type": "code",
   "execution_count": 6,
   "id": "d08a0b7e",
   "metadata": {},
   "outputs": [
    {
     "name": "stdout",
     "output_type": "stream",
     "text": [
      "4\n",
      "10\n",
      "10000\n",
      "8\n"
     ]
    }
   ],
   "source": [
    "print(len(category_A))\n",
    "print(len(category_A[0]))\n",
    "print(len(category_A[0][1]))\n",
    "print(len(category_A[0][0][0]))"
   ]
  },
  {
   "cell_type": "code",
   "execution_count": 7,
   "id": "71e64b76",
   "metadata": {},
   "outputs": [
    {
     "data": {
      "text/plain": [
       "2"
      ]
     },
     "execution_count": 7,
     "metadata": {},
     "output_type": "execute_result"
    }
   ],
   "source": [
    "num_trials = 15\n",
    "trials_list = []\n",
    "num_categories = 2\n",
    "\n",
    "for i in range(num_categories):\n",
    "    trials = np.array_split(category_A[0][i], num_trials)\n",
    "    trials_list.append(trials)\n",
    "\n",
    "len(trials_list)"
   ]
  },
  {
   "cell_type": "code",
   "execution_count": 8,
   "id": "18ad2377",
   "metadata": {},
   "outputs": [],
   "source": [
    "num_segments = 10\n",
    "num_channels = 8\n",
    "\n",
    "segment_means = []\n",
    "segment_vars = []\n",
    "\n",
    "for category_idx in range(2):\n",
    "    for trial_idx in range(15):\n",
    "        segments_1 = np.array_split(trials_list[category_idx][trial_idx], num_segments)\n",
    "        segment_mean = []\n",
    "        segment_var = []\n",
    "\n",
    "        for seg_idx in range(len(segments_1)):\n",
    "            mean_vals = []\n",
    "            var_vals = []\n",
    "            for channel_idx in range(num_channels):\n",
    "                mean_vals.append(np.mean(segments_1[seg_idx][:, channel_idx]))\n",
    "                var_vals.append(np.var(segments_1[seg_idx][:, channel_idx]))\n",
    "            segment_mean.append(mean_vals)\n",
    "            segment_var.append(var_vals)\n",
    "        \n",
    "        segment_means.append(segment_mean)\n",
    "        segment_vars.append(segment_var)"
   ]
  },
  {
   "cell_type": "code",
   "execution_count": 9,
   "id": "0b828bfc",
   "metadata": {},
   "outputs": [],
   "source": [
    "segment_vars = np.array(segment_vars)\n",
    "segment_means = np.array(segment_means)"
   ]
  },
  {
   "cell_type": "code",
   "execution_count": 10,
   "id": "b3d64a67",
   "metadata": {},
   "outputs": [],
   "source": [
    "segment_means = np.expand_dims(segment_means, axis=0)\n",
    "segment_vars = np.expand_dims(segment_vars, axis=0)"
   ]
  },
  {
   "cell_type": "code",
   "execution_count": 11,
   "id": "799e6270",
   "metadata": {},
   "outputs": [
    {
     "data": {
      "text/plain": [
       "(30, 8, 10, 2)"
      ]
     },
     "execution_count": 11,
     "metadata": {},
     "output_type": "execute_result"
    }
   ],
   "source": [
    "final_features = np.stack([segment_means, segment_vars], axis=-1)\n",
    "final_features = final_features.reshape((30, 8, 10, 2))\n",
    "final_features.shape"
   ]
  },
  {
   "cell_type": "code",
   "execution_count": 12,
   "id": "773ec5ee",
   "metadata": {},
   "outputs": [],
   "source": [
    "features_category_1 = final_features[:15]\n",
    "features_category_2 = final_features[15:]"
   ]
  },
  {
   "cell_type": "markdown",
   "id": "e39aee92",
   "metadata": {},
   "source": [
    "# Task 3"
   ]
  },
  {
   "cell_type": "code",
   "execution_count": 13,
   "id": "a088fe93",
   "metadata": {},
   "outputs": [
    {
     "data": {
      "text/plain": [
       "{'Bowing': 0,\n",
       " 'Clapping': 1,\n",
       " 'Handshaking': 2,\n",
       " 'Hugging': 3,\n",
       " 'Jumping': 4,\n",
       " 'Running': 5,\n",
       " 'Seating': 6,\n",
       " 'Standing': 7,\n",
       " 'Walking': 8,\n",
       " 'Waving': 9,\n",
       " 'Elbowing': 10,\n",
       " 'Frontkicking': 11,\n",
       " 'Hamering': 12,\n",
       " 'Headering': 13,\n",
       " 'Kneeing': 14,\n",
       " 'Pulling': 15,\n",
       " 'Punching': 16,\n",
       " 'Pushing': 17,\n",
       " 'Sidekicking': 18,\n",
       " 'Slapping': 19}"
      ]
     },
     "execution_count": 13,
     "metadata": {},
     "output_type": "execute_result"
    }
   ],
   "source": [
    "class_labels = {}\n",
    "folders = ['sub1', 'sub2', 'sub3', 'sub2']\n",
    "\n",
    "actions_list = ['Normal//txt', 'Aggressive//txt']\n",
    "\n",
    "class_label = 0\n",
    "folder_path = os.path.join(data_dir, folders[0])\n",
    "\n",
    "for action in actions_list:\n",
    "    action_dir = os.path.join(folder_path, action)\n",
    "    files_in_action = os.listdir(action_dir)\n",
    "    for file_item in files_in_action:\n",
    "        class_label_name = file_item.split('.')[0]\n",
    "        class_labels[class_label_name] = class_label\n",
    "        class_label += 1\n",
    "\n",
    "class_labels"
   ]
  },
  {
   "cell_type": "code",
   "execution_count": 14,
   "id": "e0ee613b",
   "metadata": {},
   "outputs": [
    {
     "name": "stdout",
     "output_type": "stream",
     "text": [
      "4\n",
      "20\n",
      "15\n",
      "656\n",
      "8\n"
     ]
    }
   ],
   "source": [
    "num_trials = 15\n",
    "trials_list = []\n",
    "num_categories = 10\n",
    "\n",
    "for j in range(4):\n",
    "    trial_data = []\n",
    "    for i in range(num_categories):\n",
    "        trial_split = np.array_split(category_A[j][i], num_trials)\n",
    "        trial_data.append(trial_split)\n",
    "\n",
    "    for i in range(num_categories):\n",
    "        trial_split = np.array_split(category_B[j][i], num_trials)\n",
    "        trial_data.append(trial_split)\n",
    "\n",
    "    trials_list.append(trial_data)\n",
    "\n",
    "\n",
    "print(len(trials_list))\n",
    "print(len(trials_list[0]))\n",
    "print(len(trials_list[0][0]))\n",
    "print(len(trials_list[0][0][0]))\n",
    "print(len(trials_list[0][0][0][0]))"
   ]
  },
  {
   "cell_type": "code",
   "execution_count": 15,
   "id": "3b1ac9b9",
   "metadata": {},
   "outputs": [],
   "source": [
    "num_segments = 10\n",
    "num_channels = 8\n",
    "num_trials = 15\n",
    "num_classes = 20\n",
    "num_subjects = 4\n",
    "\n",
    "t_segment_mean = []\n",
    "t_segment_var = []\n",
    "\n",
    "for subject_idx in range(num_subjects):\n",
    "    for class_idx in range(num_classes):\n",
    "        for trial_idx in range(num_trials):\n",
    "            segments_1 = np.array_split(trials_list[subject_idx][class_idx][trial_idx], num_segments)\n",
    "            segment_mean = []\n",
    "            segment_var = []\n",
    "\n",
    "            for seg_idx in range(len(segments_1)):\n",
    "                mean_vals = []\n",
    "                var_vals = []\n",
    "                for channel_idx in range(num_channels):\n",
    "                    mean_vals.append(np.mean(segments_1[seg_idx][:, channel_idx]))\n",
    "                    var_vals.append(np.var(segments_1[seg_idx][:, channel_idx]))\n",
    "                segment_mean.append(mean_vals)\n",
    "                segment_var.append(var_vals)\n",
    "        \n",
    "            t_segment_mean.append(segment_mean)\n",
    "            t_segment_var.append(segment_var)\n",
    "\n",
    "t_segment_var = np.array(t_segment_var)\n",
    "t_segment_mean = np.array(t_segment_mean)"
   ]
  },
  {
   "cell_type": "code",
   "execution_count": 16,
   "id": "65c58949",
   "metadata": {},
   "outputs": [
    {
     "data": {
      "text/plain": [
       "(1200, 2, 10, 8)"
      ]
     },
     "execution_count": 16,
     "metadata": {},
     "output_type": "execute_result"
    }
   ],
   "source": [
    "# Assuming 't_segment_mean' and 't_segment_var' are previously defined arrays\n",
    "features_data = np.stack([t_segment_mean, t_segment_var], axis=1)\n",
    "features_data.shape"
   ]
  },
  {
   "cell_type": "code",
   "execution_count": 17,
   "id": "161ce438",
   "metadata": {},
   "outputs": [
    {
     "data": {
      "text/plain": [
       "1200"
      ]
     },
     "execution_count": 17,
     "metadata": {},
     "output_type": "execute_result"
    }
   ],
   "source": [
    "class_labels = []\n",
    "\n",
    "for s_idx in range(num_subjects):\n",
    "    label_value = 0\n",
    "    for i in range(1, (len(features_data) // num_subjects) + 1):\n",
    "        if i % 15 == 0:\n",
    "            class_labels.append(label_value)\n",
    "            label_value += 1\n",
    "        else:\n",
    "            class_labels.append(label_value)\n",
    "\n",
    "len(class_labels)"
   ]
  },
  {
   "cell_type": "code",
   "execution_count": 18,
   "id": "d61018b9",
   "metadata": {},
   "outputs": [],
   "source": [
    "# Selecting 2 classes\n",
    "selected_features = features_data[:30]\n",
    "labels = class_labels[:30]\n",
    "\n",
    "x_data = []\n",
    "\n",
    "for idx in range(len(selected_features)):\n",
    "    x_data.append(selected_features[idx].flatten())\n",
    "\n",
    "x_data = np.array(x_data)\n",
    "labels = np.array(labels)\n"
   ]
  },
  {
   "cell_type": "markdown",
   "id": "7fdb7723",
   "metadata": {},
   "source": [
    "# Analysis Tasks"
   ]
  },
  {
   "cell_type": "code",
   "execution_count": 23,
   "id": "d0aaeed5",
   "metadata": {},
   "outputs": [
    {
     "data": {
      "text/plain": [
       "0.7333333333333334"
      ]
     },
     "execution_count": 23,
     "metadata": {},
     "output_type": "execute_result"
    }
   ],
   "source": [
    "from sklearn.model_selection import KFold\n",
    "from sklearn.neighbors import KNeighborsClassifier\n",
    "from sklearn.metrics import accuracy_score\n",
    "\n",
    "# Initialize KNN classifier\n",
    "classifier = KNeighborsClassifier(n_neighbors=5)\n",
    "num_splits = 5\n",
    "k_fold = KFold(n_splits=num_splits, shuffle=True, random_state=1)\n",
    "accuracy_scores = []\n",
    "\n",
    "for index, (train_indices, test_indices) in enumerate(k_fold.split(x_data)):\n",
    "    train_data, test_data = x_data[train_indices, :], x_data[test_indices, :]\n",
    "    train_labels, test_labels = labels[train_indices], labels[test_indices]\n",
    "    \n",
    "    # Fit KNN classifier on training data\n",
    "    classifier.fit(train_data, train_labels)\n",
    "    \n",
    "    # Predict using the trained classifier\n",
    "    predicted_values = classifier.predict(test_data)\n",
    "    \n",
    "    # Calculate accuracy score\n",
    "    accuracy = accuracy_score(predicted_values, test_labels)\n",
    "    accuracy_scores.append(accuracy)\n",
    "\n",
    "# Calculate average accuracy score\n",
    "avg_accuracy = sum(accuracy_scores) / len(accuracy_scores)\n",
    "avg_accuracy\n"
   ]
  },
  {
   "cell_type": "code",
   "execution_count": 25,
   "id": "415e3f07",
   "metadata": {},
   "outputs": [
    {
     "data": {
      "image/png": "[encoded data removed]",
      "text/plain": [
       "<Figure size 800x600 with 1 Axes>"
      ]
     },
     "metadata": {},
     "output_type": "display_data"
    }
   ],
   "source": [
    "plt.figure(figsize=(8, 6))\n",
    "plt.plot(range(1, num_splits + 1), accuracy_scores, marker='o', linestyle='-', color='g')\n",
    "plt.xlabel('Fold')\n",
    "plt.ylabel('Accuracy')\n",
    "plt.title('Accuracy Scores for Each Fold in K-Fold Cross-Validation')\n",
    "plt.grid(True)\n",
    "plt.show()"
   ]
  },
  {
   "cell_type": "markdown",
   "id": "50c27b19",
   "metadata": {},
   "source": [
    "# Question 2"
   ]
  },
  {
   "cell_type": "code",
   "execution_count": 20,
   "id": "d60c6fd2",
   "metadata": {},
   "outputs": [],
   "source": [
    "flattened_data = []\n",
    "\n",
    "# Flatten the features data\n",
    "for i in range(len(features_data)):\n",
    "    flattened_data.append(features_data[i].flatten())\n",
    "\n",
    "flattened_data = np.array(flattened_data)\n",
    "category_label = np.array(class_labels)\n"
   ]
  },
  {
   "cell_type": "code",
   "execution_count": 21,
   "id": "78d01b1e",
   "metadata": {},
   "outputs": [
    {
     "name": "stdout",
     "output_type": "stream",
     "text": [
      "Number of Classes: 2, Mean Accuracy: 0.8674999999999997\n",
      "Number of Classes: 3, Mean Accuracy: 0.762\n",
      "Number of Classes: 4, Mean Accuracy: 0.7087916666666665\n",
      "Number of Classes: 5, Mean Accuracy: 0.6657333333333334\n",
      "Number of Classes: 6, Mean Accuracy: 0.6235833333333333\n",
      "Number of Classes: 7, Mean Accuracy: 0.5936190476190476\n",
      "Number of Classes: 8, Mean Accuracy: 0.563625\n",
      "Number of Classes: 9, Mean Accuracy: 0.5402037037037037\n",
      "Number of Classes: 10, Mean Accuracy: 0.5137666666666667\n",
      "Number of Classes: 11, Mean Accuracy: 0.5021818181818183\n",
      "Number of Classes: 12, Mean Accuracy: 0.48999999999999994\n",
      "Number of Classes: 13, Mean Accuracy: 0.4760512820512821\n",
      "Number of Classes: 14, Mean Accuracy: 0.46310714285714283\n",
      "Number of Classes: 15, Mean Accuracy: 0.4517888888888889\n",
      "Number of Classes: 16, Mean Accuracy: 0.43290625\n",
      "Number of Classes: 17, Mean Accuracy: 0.4210392156862745\n",
      "Number of Classes: 18, Mean Accuracy: 0.4159629629629629\n",
      "Number of Classes: 19, Mean Accuracy: 0.4060438596491229\n"
     ]
    }
   ],
   "source": [
    "import numpy as np\n",
    "from itertools import combinations\n",
    "from sklearn.neighbors import KNeighborsClassifier\n",
    "from sklearn.model_selection import cross_val_score\n",
    "import pandas as pd\n",
    "import seaborn as sns\n",
    "import matplotlib.pyplot as plt\n",
    "\n",
    "num_classes_range = range(2, 20)\n",
    "num_runs = 10\n",
    "accuracy_results = {}\n",
    "\n",
    "for num_classes in num_classes_range:\n",
    "    class_combinations = list(combinations(range(20), num_classes))\n",
    "    num_combinations = len(class_combinations)\n",
    "    accuracy_per_run = []\n",
    "    \n",
    "    for run in range(num_runs):\n",
    "        selected_combo_indices = np.random.choice(num_combinations, 10, replace=False)\n",
    "        \n",
    "        for selected_combo_idx in selected_combo_indices:\n",
    "            selected_classes = class_combinations[selected_combo_idx]\n",
    "            selected_labels = np.repeat(selected_classes, 15)\n",
    "            \n",
    "            selected_data_indices = np.isin(category_label, selected_labels)\n",
    "            selected_data = flattened_data[selected_data_indices]\n",
    "            selected_labels = category_label[selected_data_indices]\n",
    "\n",
    "            knn_classifier = KNeighborsClassifier(n_neighbors=5)\n",
    "            scores = cross_val_score(knn_classifier, selected_data, selected_labels, cv=5)\n",
    "            accuracy_per_run.append(np.mean(scores))\n",
    "    \n",
    "    accuracy_results[num_classes] = accuracy_per_run\n",
    "\n",
    "for num_classes, accuracy in accuracy_results.items():\n",
    "    print(f\"Number of Classes: {num_classes}, Mean Accuracy: {np.mean(accuracy)}\")"
   ]
  },
  {
   "cell_type": "code",
   "execution_count": 22,
   "id": "249b58d7",
   "metadata": {
    "scrolled": false
   },
   "outputs": [
    {
     "data": {
      "image/png": "[encoded data removed]",
      "text/plain": [
       "<Figure size 640x480 with 2 Axes>"
      ]
     },
     "metadata": {},
     "output_type": "display_data"
    },
    {
     "data": {
      "image/png": "[encoded data removed]",
      "text/plain": [
       "<Figure size 800x600 with 1 Axes>"
      ]
     },
     "metadata": {},
     "output_type": "display_data"
    }
   ],
   "source": [
    "# Visualize the results\n",
    "data_df = pd.DataFrame.from_dict(accuracy_results, orient='index').transpose()\n",
    "\n",
    "sns_plot = sns.heatmap(data_df,cmap=\"Greens\")\n",
    "sns_plot.set(xlabel='Number of Classes', ylabel='Number of Runs')\n",
    "\n",
    "mean_accuracies = [np.mean(accuracy_results[num_classes]) for num_classes in num_classes_range]\n",
    "\n",
    "plt.figure(figsize=(8, 6))\n",
    "plt.plot(num_classes_range, mean_accuracies, marker='o', linestyle='-',color='g')\n",
    "plt.xlabel('Number of Classes')\n",
    "plt.ylabel('Mean Accuracy')\n",
    "plt.title('Mean Accuracy vs Number of Classes')\n",
    "plt.grid(True)\n",
    "plt.show()\n"
   ]
  },
  {
   "cell_type": "code",
   "execution_count": null,
   "id": "04efb039",
   "metadata": {},
   "outputs": [],
   "source": []
  }
 ],
 "metadata": {
  "kernelspec": {
   "display_name": "Python 3 (ipykernel)",
   "language": "python",
   "name": "python3"
  },
  "language_info": {
   "codemirror_mode": {
    "name": "ipython",
    "version": 3
   },
   "file_extension": ".py",
   "mimetype": "text/x-python",
   "name": "python",
   "nbconvert_exporter": "python",
   "pygments_lexer": "ipython3",
   "version": "3.10.9"
  }
 },
 "nbformat": 4,
 "nbformat_minor": 5
}
